{
 "cells": [
  {
   "cell_type": "code",
   "execution_count": null,
   "metadata": {},
   "outputs": [],
   "source": [
    "!ls"
   ]
  },
  {
   "cell_type": "code",
   "execution_count": null,
   "metadata": {},
   "outputs": [],
   "source": [
    "import tweepy\n",
    "import tkinter\n",
    "from credentials import credentials\n"
   ]
  },
  {
   "cell_type": "code",
   "execution_count": null,
   "metadata": {},
   "outputs": [],
   "source": [
    "consumer_key = credentials.get(\"API_key\")\n",
    "consumer_secret = credentials.get(\"secret_key\")\n",
    "access_token = credentials.get(\"Access_token\")\n",
    "access_token_secret = credentials.get(\"Access_token_secret\")\n",
    "\n"
   ]
  },
  {
   "cell_type": "code",
   "execution_count": null,
   "metadata": {},
   "outputs": [],
   "source": [
    "auth = tweepy.OAuthHandler(consumer_key, consumer_secret)\n",
    "auth.set_access_token(access_token, access_token_secret)\n",
    "# api = tweepy.API(auth, wait_on_rate_limit=True, wait_on_rate_limit_notify=True, parser=tweepy.parsers.JSONParser())\n",
    "api = tweepy.API(auth, wait_on_rate_limit=True, wait_on_rate_limit_notify=True)\n",
    "# will wait once you’ve reached your rate limit and prints out a message.\n",
    "\n"
   ]
  },
  {
   "cell_type": "code",
   "execution_count": null,
   "metadata": {
    "scrolled": true
   },
   "outputs": [],
   "source": []
  },
  {
   "cell_type": "code",
   "execution_count": null,
   "metadata": {
    "scrolled": true
   },
   "outputs": [],
   "source": [
    "userID = \"\"\n",
    "user = api.get_user(userID)\n",
    "# user._json"
   ]
  },
  {
   "cell_type": "code",
   "execution_count": null,
   "metadata": {
    "scrolled": true
   },
   "outputs": [],
   "source": [
    "## single case test\n",
    "# test = api.get_user(\"Dr_Bonkersane\")\n",
    "# test._json"
   ]
  },
  {
   "cell_type": "code",
   "execution_count": null,
   "metadata": {
    "scrolled": true
   },
   "outputs": [],
   "source": [
    "# collect all the friends\n",
    "friends_dict = {}\n",
    "for individual in tweepy.Cursor(api.friends, screen_name=userID).items():\n",
    "    if individual.id not in friends:\n",
    "        friends_dict[individual.id] = [individual.name, individual.screen_name, individual.location, \n",
    "                                 individual.url, individual.followers_count, individual.friends_count,\n",
    "                                 individual.listed_count, individual.created_at, individual.verified,\n",
    "                                 individual.lang, individual.following, individual.muting, \n",
    "                                 individual.blocking, individual.blocked_by]\n",
    "    print('friend: ' + individual.screen_name)"
   ]
  },
  {
   "cell_type": "code",
   "execution_count": null,
   "metadata": {
    "scrolled": true
   },
   "outputs": [],
   "source": [
    "# individual._json"
   ]
  },
  {
   "cell_type": "code",
   "execution_count": null,
   "metadata": {},
   "outputs": [],
   "source": [
    "# individual.screen_name"
   ]
  },
  {
   "cell_type": "code",
   "execution_count": null,
   "metadata": {},
   "outputs": [],
   "source": []
  },
  {
   "cell_type": "code",
   "execution_count": null,
   "metadata": {},
   "outputs": [],
   "source": [
    "import pandas as pd"
   ]
  },
  {
   "cell_type": "code",
   "execution_count": null,
   "metadata": {},
   "outputs": [],
   "source": [
    "df_friends = pd.DataFrame.from_dict(friends).T\n",
    "df_friends.columns = ['name','screen_name','location','url','followers_count',\n",
    "             'friends_count','listed_count','created_at','verified',\n",
    "             'lang','following','muting','blocking','blocked_by']\n",
    "df_friends.head()"
   ]
  },
  {
   "cell_type": "code",
   "execution_count": null,
   "metadata": {},
   "outputs": [],
   "source": [
    "# df_friends.to_csv(\"friends_sheet.csv\")\n",
    "friends"
   ]
  },
  {
   "cell_type": "code",
   "execution_count": null,
   "metadata": {},
   "outputs": [],
   "source": [
    "df_friends[df_friends[\"verified\"]==True]"
   ]
  },
  {
   "cell_type": "code",
   "execution_count": null,
   "metadata": {},
   "outputs": [],
   "source": [
    "dir(api)"
   ]
  },
  {
   "cell_type": "code",
   "execution_count": null,
   "metadata": {
    "scrolled": true
   },
   "outputs": [],
   "source": [
    "followers_dict = {}\n",
    "for individual in tweepy.Cursor(api.followers, screen_name=userID).items():\n",
    "    if individual.id not in followers:\n",
    "        followers_dict[individual.id] = [individual.name, individual.screen_name, individual.location, \n",
    "                                 individual.url, individual.followers_count, individual.friends_count,\n",
    "                                 individual.listed_count, individual.created_at, individual.verified,\n",
    "                                 individual.lang, individual.following, individual.muting, \n",
    "                                 individual.blocking, individual.blocked_by]\n",
    "    print('follower: ' + individual.screen_name)"
   ]
  },
  {
   "cell_type": "code",
   "execution_count": null,
   "metadata": {},
   "outputs": [],
   "source": [
    "df_followers = pd.DataFrame.from_dict(followers).T\n",
    "df_followers.columns = ['name','screen_name','location','url','followers_count',\n",
    "             'friends_count','listed_count','created_at','verified',\n",
    "             'lang','following','muting','blocking','blocked_by']\n",
    "df_followers.head()"
   ]
  },
  {
   "cell_type": "code",
   "execution_count": null,
   "metadata": {},
   "outputs": [],
   "source": [
    "# df_followers.to_csv(\"follower_sheet.csv\")\n",
    "followers = set(df_followers[\"screen_name\"].tolist())"
   ]
  },
  {
   "cell_type": "code",
   "execution_count": null,
   "metadata": {
    "scrolled": true
   },
   "outputs": [],
   "source": [
    "df_followers[df_followers[\"following\"]==False]"
   ]
  },
  {
   "cell_type": "code",
   "execution_count": null,
   "metadata": {},
   "outputs": [],
   "source": [
    "single_dir_follow_me = df_followers[df_followers[\"following\"]==False][\"screen_name\"].tolist()\n",
    "single_dir_follow_me = [\"@\" + _ for _ in single_dir_follow_me]\n",
    "print(len(single_dir_follow_me))"
   ]
  },
  {
   "cell_type": "code",
   "execution_count": null,
   "metadata": {},
   "outputs": [],
   "source": [
    "df_didnt_follow_me_back = df_friends[~df_friends[\"screen_name\"].isin(followers)]\n",
    "didnt_follow_me_back = df_didnt_follow_me_back[\"screen_name\"].tolist()\n",
    "didnt_follow_me_back = [\"@\" + _ for _ in didnt_follow_me_back]\n",
    "\n",
    "didnt_follow_me_back_normal = df_didnt_follow_me_back[df_didnt_follow_me_back[\"verified\"]==False][\"screen_name\"].tolist()\n",
    "didnt_follow_me_back_normal = [\"@\" + _ for _ in didnt_follow_me_back_normal]\n",
    "print(len(didnt_follow_me_back))"
   ]
  },
  {
   "cell_type": "code",
   "execution_count": null,
   "metadata": {},
   "outputs": [],
   "source": [
    "print(f\"Total number of following: {len(df_friends)}\")\n",
    "print(f\"Total number of followers: {len(followers)}\")\n",
    "print(f\"Total number of followers that I didn't follow back: {len(single_dir_follow_me)}\")\n",
    "print(f\"Total number of followings that didn't follow back: {len(didnt_follow_me_back)}\")\n",
    "print(f\"Total number of non-blue-check followings that didn't follow back: {len(didnt_follow_me_back_normal)}\")"
   ]
  },
  {
   "cell_type": "code",
   "execution_count": null,
   "metadata": {},
   "outputs": [],
   "source": [
    "didnt_follow_me_back_normal"
   ]
  },
  {
   "cell_type": "code",
   "execution_count": null,
   "metadata": {},
   "outputs": [],
   "source": []
  },
  {
   "cell_type": "code",
   "execution_count": null,
   "metadata": {},
   "outputs": [],
   "source": [
    "# tweets = api.user_timeline(screen_name=userID, \n",
    "#                            # 200 is the maximum allowed count\n",
    "#                            count=200,\n",
    "#                            include_rts = False,\n",
    "#                            # Necessary to keep full_text \n",
    "#                            # otherwise only the first 140 words are extracted\n",
    "#                            tweet_mode = 'extended'\n",
    "#                            )"
   ]
  },
  {
   "cell_type": "code",
   "execution_count": null,
   "metadata": {},
   "outputs": [],
   "source": [
    "# for info in tweets[:3]:\n",
    "#     print(\"ID: {}\".format(info.id))\n",
    "#     print(info.created_at)\n",
    "#     print(info.full_text)\n",
    "#     print(\"\\n\")"
   ]
  },
  {
   "cell_type": "code",
   "execution_count": null,
   "metadata": {},
   "outputs": [],
   "source": []
  },
  {
   "cell_type": "code",
   "execution_count": null,
   "metadata": {},
   "outputs": [],
   "source": []
  }
 ],
 "metadata": {
  "kernelspec": {
   "display_name": "Python 3",
   "language": "python",
   "name": "python3"
  },
  "language_info": {
   "codemirror_mode": {
    "name": "ipython",
    "version": 3
   },
   "file_extension": ".py",
   "mimetype": "text/x-python",
   "name": "python",
   "nbconvert_exporter": "python",
   "pygments_lexer": "ipython3",
   "version": "3.8.5"
  }
 },
 "nbformat": 4,
 "nbformat_minor": 4
}
