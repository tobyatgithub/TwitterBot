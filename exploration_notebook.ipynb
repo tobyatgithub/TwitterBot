{
 "cells": [
  {
   "cell_type": "code",
   "execution_count": 1,
   "metadata": {},
   "outputs": [],
   "source": [
    "import tweepy\n",
    "import tkinter\n",
    "from credentials import credentials\n",
    "\n",
    "\n"
   ]
  },
  {
   "cell_type": "code",
   "execution_count": 2,
   "metadata": {},
   "outputs": [],
   "source": [
    "consumer_key = credentials.get(\"API_key\")\n",
    "consumer_secret = credentials.get(\"secret_key\")\n",
    "access_token = credentials.get(\"Access_token\")\n",
    "access_token_secret = credentials.get(\"Access_token_secret\")\n",
    "\n"
   ]
  },
  {
   "cell_type": "code",
   "execution_count": 3,
   "metadata": {},
   "outputs": [],
   "source": [
    "auth = tweepy.OAuthHandler(consumer_key, consumer_secret)\n",
    "auth.set_access_token(access_token, access_token_secret)\n",
    "# api = tweepy.API(auth, wait_on_rate_limit=True, wait_on_rate_limit_notify=True, parser=tweepy.parsers.JSONParser())\n",
    "api = tweepy.API(auth, wait_on_rate_limit=True, wait_on_rate_limit_notify=True)\n",
    "# will wait once you’ve reached your rate limit and prints out a message.\n",
    "\n"
   ]
  },
  {
   "cell_type": "code",
   "execution_count": 4,
   "metadata": {
    "scrolled": true
   },
   "outputs": [
    {
     "data": {
      "text/plain": [
       "User(_api=<tweepy.api.API object at 0x7fc31e951070>, _json={'id': 25073877, 'id_str': '25073877', 'name': 'Donald J. Trump', 'screen_name': 'realDonaldTrump', 'location': 'Washington, DC', 'profile_location': None, 'description': '45th President of the United States of America🇺🇸', 'url': 'https://t.co/8f9VFxztEJ', 'entities': {'url': {'urls': [{'url': 'https://t.co/8f9VFxztEJ', 'expanded_url': 'http://Vote.DonaldJTrump.com', 'display_url': 'Vote.DonaldJTrump.com', 'indices': [0, 23]}]}, 'description': {'urls': []}}, 'protected': False, 'followers_count': 88681415, 'friends_count': 51, 'listed_count': 125749, 'created_at': 'Wed Mar 18 13:46:38 +0000 2009', 'favourites_count': 6, 'utc_offset': None, 'time_zone': None, 'geo_enabled': True, 'verified': True, 'statuses_count': 59051, 'lang': None, 'status': {'created_at': 'Tue Dec 08 22:34:34 +0000 2020', 'id': 1336439050488647681, 'id_str': '1336439050488647681', 'text': 'NASDAQ and S&amp;P close at all-time highs. Congratulations!', 'truncated': False, 'entities': {'hashtags': [], 'symbols': [], 'user_mentions': [], 'urls': []}, 'source': '<a href=\"http://twitter.com/download/iphone\" rel=\"nofollow\">Twitter for iPhone</a>', 'in_reply_to_status_id': None, 'in_reply_to_status_id_str': None, 'in_reply_to_user_id': None, 'in_reply_to_user_id_str': None, 'in_reply_to_screen_name': None, 'geo': None, 'coordinates': None, 'place': None, 'contributors': None, 'is_quote_status': False, 'retweet_count': 25504, 'favorite_count': 194863, 'favorited': False, 'retweeted': False, 'lang': 'en'}, 'contributors_enabled': False, 'is_translator': False, 'is_translation_enabled': True, 'profile_background_color': '6D5C18', 'profile_background_image_url': 'http://abs.twimg.com/images/themes/theme1/bg.png', 'profile_background_image_url_https': 'https://abs.twimg.com/images/themes/theme1/bg.png', 'profile_background_tile': True, 'profile_image_url': 'http://pbs.twimg.com/profile_images/874276197357596672/kUuht00m_normal.jpg', 'profile_image_url_https': 'https://pbs.twimg.com/profile_images/874276197357596672/kUuht00m_normal.jpg', 'profile_banner_url': 'https://pbs.twimg.com/profile_banners/25073877/1604214583', 'profile_link_color': '1B95E0', 'profile_sidebar_border_color': 'BDDCAD', 'profile_sidebar_fill_color': 'C5CEC0', 'profile_text_color': '333333', 'profile_use_background_image': True, 'has_extended_profile': False, 'default_profile': False, 'default_profile_image': False, 'following': False, 'follow_request_sent': False, 'notifications': False, 'translator_type': 'regular'}, id=25073877, id_str='25073877', name='Donald J. Trump', screen_name='realDonaldTrump', location='Washington, DC', profile_location=None, description='45th President of the United States of America🇺🇸', url='https://t.co/8f9VFxztEJ', entities={'url': {'urls': [{'url': 'https://t.co/8f9VFxztEJ', 'expanded_url': 'http://Vote.DonaldJTrump.com', 'display_url': 'Vote.DonaldJTrump.com', 'indices': [0, 23]}]}, 'description': {'urls': []}}, protected=False, followers_count=88681415, friends_count=51, listed_count=125749, created_at=datetime.datetime(2009, 3, 18, 13, 46, 38), favourites_count=6, utc_offset=None, time_zone=None, geo_enabled=True, verified=True, statuses_count=59051, lang=None, status=Status(_api=<tweepy.api.API object at 0x7fc31e951070>, _json={'created_at': 'Tue Dec 08 22:34:34 +0000 2020', 'id': 1336439050488647681, 'id_str': '1336439050488647681', 'text': 'NASDAQ and S&amp;P close at all-time highs. Congratulations!', 'truncated': False, 'entities': {'hashtags': [], 'symbols': [], 'user_mentions': [], 'urls': []}, 'source': '<a href=\"http://twitter.com/download/iphone\" rel=\"nofollow\">Twitter for iPhone</a>', 'in_reply_to_status_id': None, 'in_reply_to_status_id_str': None, 'in_reply_to_user_id': None, 'in_reply_to_user_id_str': None, 'in_reply_to_screen_name': None, 'geo': None, 'coordinates': None, 'place': None, 'contributors': None, 'is_quote_status': False, 'retweet_count': 25504, 'favorite_count': 194863, 'favorited': False, 'retweeted': False, 'lang': 'en'}, created_at=datetime.datetime(2020, 12, 8, 22, 34, 34), id=1336439050488647681, id_str='1336439050488647681', text='NASDAQ and S&amp;P close at all-time highs. Congratulations!', truncated=False, entities={'hashtags': [], 'symbols': [], 'user_mentions': [], 'urls': []}, source='Twitter for iPhone', source_url='http://twitter.com/download/iphone', in_reply_to_status_id=None, in_reply_to_status_id_str=None, in_reply_to_user_id=None, in_reply_to_user_id_str=None, in_reply_to_screen_name=None, geo=None, coordinates=None, place=None, contributors=None, is_quote_status=False, retweet_count=25504, favorite_count=194863, favorited=False, retweeted=False, lang='en'), contributors_enabled=False, is_translator=False, is_translation_enabled=True, profile_background_color='6D5C18', profile_background_image_url='http://abs.twimg.com/images/themes/theme1/bg.png', profile_background_image_url_https='https://abs.twimg.com/images/themes/theme1/bg.png', profile_background_tile=True, profile_image_url='http://pbs.twimg.com/profile_images/874276197357596672/kUuht00m_normal.jpg', profile_image_url_https='https://pbs.twimg.com/profile_images/874276197357596672/kUuht00m_normal.jpg', profile_banner_url='https://pbs.twimg.com/profile_banners/25073877/1604214583', profile_link_color='1B95E0', profile_sidebar_border_color='BDDCAD', profile_sidebar_fill_color='C5CEC0', profile_text_color='333333', profile_use_background_image=True, has_extended_profile=False, default_profile=False, default_profile_image=False, following=False, follow_request_sent=False, notifications=False, translator_type='regular')"
      ]
     },
     "execution_count": 4,
     "metadata": {},
     "output_type": "execute_result"
    }
   ],
   "source": [
    "userID = \"realDonaldTrump\"\n",
    "user = api.get_user(userID)\n",
    "user"
   ]
  },
  {
   "cell_type": "code",
   "execution_count": 5,
   "metadata": {},
   "outputs": [],
   "source": [
    "tweets = api.user_timeline(screen_name=userID, \n",
    "                           # 200 is the maximum allowed count\n",
    "                           count=200,\n",
    "                           include_rts = False,\n",
    "                           # Necessary to keep full_text \n",
    "                           # otherwise only the first 140 words are extracted\n",
    "                           tweet_mode = 'extended'\n",
    "                           )"
   ]
  },
  {
   "cell_type": "code",
   "execution_count": 6,
   "metadata": {},
   "outputs": [
    {
     "name": "stdout",
     "output_type": "stream",
     "text": [
      "ID: 1336439050488647681\n",
      "2020-12-08 22:34:34\n",
      "NASDAQ and S&amp;P close at all-time highs. Congratulations!\n",
      "\n",
      "\n",
      "ID: 1336407510069161988\n",
      "2020-12-08 20:29:14\n",
      "They got caught because we were leading by so much more than they ever thought possible. Late night ballot “dumps” went crazy! https://t.co/gPpVWUUs91\n",
      "\n",
      "\n",
      "ID: 1336407243743498246\n",
      "2020-12-08 20:28:10\n",
      "Thank you and congratulations to General Flynn. He and his incredible family have suffered greatly! https://t.co/UjH6LVuON8\n",
      "\n",
      "\n"
     ]
    }
   ],
   "source": [
    "for info in tweets[:3]:\n",
    "    print(\"ID: {}\".format(info.id))\n",
    "    print(info.created_at)\n",
    "    print(info.full_text)\n",
    "    print(\"\\n\")"
   ]
  },
  {
   "cell_type": "code",
   "execution_count": null,
   "metadata": {},
   "outputs": [],
   "source": []
  }
 ],
 "metadata": {
  "kernelspec": {
   "display_name": "Python 3",
   "language": "python",
   "name": "python3"
  },
  "language_info": {
   "codemirror_mode": {
    "name": "ipython",
    "version": 3
   },
   "file_extension": ".py",
   "mimetype": "text/x-python",
   "name": "python",
   "nbconvert_exporter": "python",
   "pygments_lexer": "ipython3",
   "version": "3.8.2"
  }
 },
 "nbformat": 4,
 "nbformat_minor": 4
}
